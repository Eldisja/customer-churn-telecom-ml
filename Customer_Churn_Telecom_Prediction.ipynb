{
  "cells": [
    {
      "cell_type": "code",
      "execution_count": null,
      "metadata": {
        "id": "PNvBfQoq0mV2"
      },
      "outputs": [],
      "source": [
        "import pandas as pd\n",
        "import joblib\n",
        "from sklearn.preprocessing import LabelEncoder"
      ]
    },
    {
      "cell_type": "code",
      "execution_count": null,
      "metadata": {
        "id": "CAUUUHOV1D32"
      },
      "outputs": [],
      "source": [
        "# Load the dataset and model  \n",
        "df = pd.read_csv(\"/content/drive/MyDrive/Project_CV/Telco-Customer-Churn.csv\")\n",
        "model = joblib.load(\"/content/drive/MyDrive/Project_CV/xgb_model_best_fold5.pkl\")"
      ]
    },
    {
      "cell_type": "code",
      "execution_count": null,
      "metadata": {
        "id": "4pVXTqU31GDZ"
      },
      "outputs": [],
      "source": [
        "# Preprocess the dataset \n",
        "df['TotalCharges'] = pd.to_numeric(df['TotalCharges'], errors='coerce')\n",
        "df.dropna(inplace=True)\n",
        "df.drop('customerID', axis=1, inplace=True)\n",
        "df = df.reset_index(drop=True)\n",
        "\n",
        "# Separate features and labels  \n",
        "X = df.drop('Churn', axis=1)\n",
        "y_true = df['Churn']"
      ]
    },
    {
      "cell_type": "code",
      "execution_count": null,
      "metadata": {
        "colab": {
          "base_uri": "https://localhost:8080/"
        },
        "id": "ofCDlEno1JDm",
        "outputId": "5255e2de-6156-45d4-ef55-5a18450e0d58"
      },
      "outputs": [
        {
          "name": "stdout",
          "output_type": "stream",
          "text": [
            "Masukkan index sampel: 4\n"
          ]
        }
      ],
      "source": [
        "# Receive input index  \n",
        "index = int(input(\"Masukkan index sampel: \"))\n",
        "if index < 0 or index >= len(df):\n",
        "    print(\"Index di luar jangkauan.\")\n",
        "    exit()\n",
        "\n",
        "# Extract the sample  \n",
        "sample_X = X.iloc[[index]].copy()\n",
        "actual_label = y_true.iloc[index]"
      ]
    },
    {
      "cell_type": "code",
      "execution_count": null,
      "metadata": {
        "id": "YIIXQ-NA1K_9"
      },
      "outputs": [],
      "source": [
        "# Encode all categorical features  \n",
        "for col in sample_X.columns:\n",
        "    if sample_X[col].dtype == 'object':\n",
        "        le = LabelEncoder()\n",
        "        le.fit(df[col].astype(str))  # Fit all columns of the dataset\n",
        "        sample_X[col] = le.transform(sample_X[col].astype(str))"
      ]
    },
    {
      "cell_type": "code",
      "execution_count": null,
      "metadata": {
        "id": "93sBXNqS1NHj"
      },
      "outputs": [],
      "source": [
        "# Make prediction  \n",
        "predicted = model.predict(sample_X)[0]"
      ]
    },
    {
      "cell_type": "code",
      "execution_count": null,
      "metadata": {
        "colab": {
          "base_uri": "https://localhost:8080/"
        },
        "id": "q6j7S3c61OjW",
        "outputId": "e7f9de2f-8670-4a21-c283-bdbd04fb7ea7"
      },
      "outputs": [
        {
          "name": "stdout",
          "output_type": "stream",
          "text": [
            "\n",
            "========== Customer Churn Prediction ==========\n",
            "Dataset         : Telco-Customer-Churn\n",
            "Sample Index    : 4\n",
            "Actual Label    : Yes\n",
            "Predicted Result: 1 (Yes)\n"
          ]
        }
      ],
      "source": [
        "# Display the prediction result \n",
        "print(\"\\n========== Customer Churn Prediction ==========\")\n",
        "print(\"Dataset         : Telco-Customer-Churn\")\n",
        "print(f\"Sample Index    : {index}\")\n",
        "print(f\"Actual Label    : {actual_label}\")\n",
        "print(f\"Predicted Result: {predicted} ({'Yes' if predicted == 1 else 'No'})\")\n"
      ]
    }
  ],
  "metadata": {
    "colab": {
      "provenance": []
    },
    "kernelspec": {
      "display_name": "Python 3",
      "name": "python3"
    },
    "language_info": {
      "name": "python"
    }
  },
  "nbformat": 4,
  "nbformat_minor": 0
}
