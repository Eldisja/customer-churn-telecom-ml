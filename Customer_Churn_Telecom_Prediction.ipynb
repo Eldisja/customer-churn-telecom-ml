{
  "nbformat": 4,
  "nbformat_minor": 0,
  "metadata": {
    "colab": {
      "provenance": []
    },
    "kernelspec": {
      "name": "python3",
      "display_name": "Python 3"
    },
    "language_info": {
      "name": "python"
    }
  },
  "cells": [
    {
      "cell_type": "code",
      "source": [
        "import pandas as pd\n",
        "import joblib\n",
        "from sklearn.preprocessing import LabelEncoder"
      ],
      "metadata": {
        "id": "PNvBfQoq0mV2"
      },
      "execution_count": null,
      "outputs": []
    },
    {
      "cell_type": "code",
      "source": [
        "# Melakukan load dataset dan model\n",
        "df = pd.read_csv(\"/content/drive/MyDrive/Project_CV/Telco-Customer-Churn.csv\")\n",
        "model = joblib.load(\"/content/drive/MyDrive/Project_CV/xgb_model_best_fold5.pkl\")"
      ],
      "metadata": {
        "id": "CAUUUHOV1D32"
      },
      "execution_count": null,
      "outputs": []
    },
    {
      "cell_type": "code",
      "source": [
        "# Melakukan preprocessing dataset\n",
        "df['TotalCharges'] = pd.to_numeric(df['TotalCharges'], errors='coerce')\n",
        "df.dropna(inplace=True)\n",
        "df.drop('customerID', axis=1, inplace=True)\n",
        "df = df.reset_index(drop=True)\n",
        "\n",
        "# Memisahkan fitur dan label\n",
        "X = df.drop('Churn', axis=1)\n",
        "y_true = df['Churn']"
      ],
      "metadata": {
        "id": "4pVXTqU31GDZ"
      },
      "execution_count": null,
      "outputs": []
    },
    {
      "cell_type": "code",
      "source": [
        "# Menerima input index\n",
        "index = int(input(\"Masukkan index sampel: \"))\n",
        "if index < 0 or index >= len(df):\n",
        "    print(\"Index di luar jangkauan.\")\n",
        "    exit()\n",
        "\n",
        "# mengambil sampel\n",
        "sample_X = X.iloc[[index]].copy()\n",
        "actual_label = y_true.iloc[index]"
      ],
      "metadata": {
        "colab": {
          "base_uri": "https://localhost:8080/"
        },
        "id": "ofCDlEno1JDm",
        "outputId": "5255e2de-6156-45d4-ef55-5a18450e0d58"
      },
      "execution_count": null,
      "outputs": [
        {
          "name": "stdout",
          "output_type": "stream",
          "text": [
            "Masukkan index sampel: 4\n"
          ]
        }
      ]
    },
    {
      "cell_type": "code",
      "source": [
        "# Melakukan encode semua fitur kategorikal\n",
        "for col in sample_X.columns:\n",
        "    if sample_X[col].dtype == 'object':\n",
        "        le = LabelEncoder()\n",
        "        le.fit(df[col].astype(str))  # Melakukan fit dari seluruh kolom dataset\n",
        "        sample_X[col] = le.transform(sample_X[col].astype(str))"
      ],
      "metadata": {
        "id": "YIIXQ-NA1K_9"
      },
      "execution_count": null,
      "outputs": []
    },
    {
      "cell_type": "code",
      "source": [
        "# Melakukan prediksi\n",
        "predicted = model.predict(sample_X)[0]"
      ],
      "metadata": {
        "id": "93sBXNqS1NHj"
      },
      "execution_count": null,
      "outputs": []
    },
    {
      "cell_type": "code",
      "source": [
        "# Menampilkan hasil prediksi\n",
        "print(\"\\n========== Customer Churn Prediction ==========\")\n",
        "print(\"Dataset         : Telco-Customer-Churn\")\n",
        "print(f\"Sample Index    : {index}\")\n",
        "print(f\"Actual Label    : {actual_label}\")\n",
        "print(f\"Predicted Result: {predicted} ({'Yes' if predicted == 1 else 'No'})\")\n"
      ],
      "metadata": {
        "colab": {
          "base_uri": "https://localhost:8080/"
        },
        "id": "q6j7S3c61OjW",
        "outputId": "e7f9de2f-8670-4a21-c283-bdbd04fb7ea7"
      },
      "execution_count": null,
      "outputs": [
        {
          "output_type": "stream",
          "name": "stdout",
          "text": [
            "\n",
            "========== Customer Churn Prediction ==========\n",
            "Dataset         : Telco-Customer-Churn\n",
            "Sample Index    : 4\n",
            "Actual Label    : Yes\n",
            "Predicted Result: 1 (Yes)\n"
          ]
        }
      ]
    }
  ]
}